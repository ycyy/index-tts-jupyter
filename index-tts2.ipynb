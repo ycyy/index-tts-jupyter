{
  "nbformat": 4,
  "nbformat_minor": 0,
  "metadata": {
    "colab": {
      "provenance": [],
      "gpuType": "T4"
    },
    "kernelspec": {
      "name": "python3",
      "display_name": "Python 3"
    },
    "language_info": {
      "name": "python"
    },
    "accelerator": "GPU"
  },
  "cells": [
    {
      "cell_type": "markdown",
      "source": [
        "# Index-TTS2"
      ],
      "metadata": {
        "id": "1cINhSPhCnXG"
      }
    },
    {
      "cell_type": "code",
      "execution_count": null,
      "metadata": {
        "id": "B1NW1ZBACW9-"
      },
      "outputs": [],
      "source": [
        "# 下载项目\n",
        "!git lfs install\n",
        "!rm -rf index-tts\n",
        "!git clone https://github.com/index-tts/index-tts.git\n"
      ]
    },
    {
      "cell_type": "code",
      "source": [
        "# 安装依赖项\n",
        "%cd /content/index-tts\n",
        "!pip install -U uv\n",
        "!uv sync --all-extras\n",
        "!uv pip install deepspeed==0.17.1\n",
        "print('✅依赖安装完成')\n",
        "# 下载模型\n",
        "!uv tool install \"huggingface_hub[cli]\"\n",
        "!hf download IndexTeam/IndexTTS-2 --local-dir=checkpoints\n",
        "print('✅模型下载完成')"
      ],
      "metadata": {
        "id": "MBrLNDk1JO8o"
      },
      "execution_count": null,
      "outputs": []
    },
    {
      "cell_type": "code",
      "source": [
        "# 启动项目WebUI\n",
        "# 首先修改webui.py最后一行，添加`share=True`\n",
        "# !uv run webui.py -h\n",
        "!uv run webui.py --fp16 --deepspeed\n",
        "# !uv run webui.py"
      ],
      "metadata": {
        "id": "F-my1tX7Keyx"
      },
      "execution_count": null,
      "outputs": []
    }
  ]
}